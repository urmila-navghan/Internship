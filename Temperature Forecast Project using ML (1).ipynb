{
 "cells": [
  {
   "cell_type": "code",
   "execution_count": 18,
   "id": "bcc1b8dd",
   "metadata": {},
   "outputs": [
    {
     "name": "stdout",
     "output_type": "stream",
     "text": [
      "Maximum Temperature Model:\n",
      "MAE: 0.74214163372859\n",
      "RMSE: 1.0041100566814638\n",
      "R-squared: 0.8929396724710941\n",
      "\n",
      "Minimum Temperature Model:\n",
      "MAE: 0.7868062654957818\n",
      "RMSE: 1.0129687508384122\n",
      "R-squared: 0.8329684041693742\n"
     ]
    }
   ],
   "source": [
    "\n",
    "#Project Description\n",
    "#This data is for the purpose of bias correction of next-day maximum and minimum air temperatures forecast of the LDAPS model operated by the Korea Meteorological Administration over Seoul, South Korea. \n",
    "\n",
    "\n",
    "#import required liabraries\n",
    "\n",
    "import pandas as pd\n",
    "from sklearn.model_selection import train_test_split\n",
    "from sklearn.preprocessing import StandardScaler\n",
    "from sklearn.ensemble import RandomForestRegressor\n",
    "from sklearn.linear_model import LinearRegression\n",
    "from sklearn.metrics import mean_absolute_error, mean_squared_error, r2_score\n",
    "\n",
    "# Load the dataset\n",
    "data_url = \"https://raw.githubusercontent.com/dsrscientist/Dataset2/main/temperature.csv\"\n",
    "df = pd.read_csv(data_url)\n",
    "\n",
    "# Handling missing values\n",
    "df = df.dropna()  # Drop rows with missing v\n",
    "       # 164 rows dropped\n",
    "\n",
    "\n",
    "# Separate features and target variables\n",
    "X = df.drop(['Date', 'Next_Tmax', 'Next_Tmin'], axis=1)\n",
    "y_max = df['Next_Tmax']\n",
    "y_min = df['Next_Tmin']\n",
    " \n",
    "\n",
    "# Splitting the data into training and testing sets\n",
    "X_train, X_test, y_max_train, y_max_test, y_min_train, y_min_test = train_test_split(X, y_max, y_min, test_size=0.2, random_state=42)\n",
    "\n",
    "# standardization\n",
    "scaler = StandardScaler()\n",
    "X_train_scaled = scaler.fit_transform(X_train)\n",
    "X_test_scaled = scaler.transform(X_test)\n",
    "\n",
    "# Build and train models\n",
    "max_temp_model = RandomForestRegressor(random_state=42)\n",
    "min_temp_model = LinearRegression()\n",
    "\n",
    " \n",
    "max_temp_model.fit(X_train_scaled, y_max_train)\n",
    "min_temp_model.fit(X_train_scaled, y_min_train)\n",
    "\n",
    "# Predictions\n",
    "y_max_pred = max_temp_model.predict(X_test_scaled)\n",
    "y_min_pred = min_temp_model.predict(X_test_scaled)\n",
    "\n",
    "# Model evaluation\n",
    "print(\"Maximum Temperature Model:\")\n",
    "print(\"MAE:\", mean_absolute_error(y_max_test, y_max_pred))\n",
    "print(\"RMSE:\", mean_squared_error(y_max_test, y_max_pred, squared=False))\n",
    "print(\"R-squared:\", r2_score(y_max_test, y_max_pred))\n",
    "print()\n",
    "\n",
    "print(\"Minimum Temperature Model:\")\n",
    "print(\"MAE:\", mean_absolute_error(y_min_test, y_min_pred))\n",
    "print(\"RMSE:\", mean_squared_error(y_min_test, y_min_pred, squared=False))\n",
    "print(\"R-squared:\", r2_score(y_min_test, y_min_pred))\n"
   ]
  },
  {
   "cell_type": "code",
   "execution_count": null,
   "id": "cf6e1f22",
   "metadata": {},
   "outputs": [],
   "source": []
  }
 ],
 "metadata": {
  "kernelspec": {
   "display_name": "Python 3 (ipykernel)",
   "language": "python",
   "name": "python3"
  },
  "language_info": {
   "codemirror_mode": {
    "name": "ipython",
    "version": 3
   },
   "file_extension": ".py",
   "mimetype": "text/x-python",
   "name": "python",
   "nbconvert_exporter": "python",
   "pygments_lexer": "ipython3",
   "version": "3.10.9"
  }
 },
 "nbformat": 4,
 "nbformat_minor": 5
}
