{
 "cells": [
  {
   "cell_type": "code",
   "execution_count": 6,
   "id": "53ea6157",
   "metadata": {},
   "outputs": [
    {
     "name": "stdout",
     "output_type": "stream",
     "text": [
      "h1   Main Page\n",
      "h1   Welcome to Wikipedia\n",
      "h2   From today's featured article\n",
      "h2   Did you know ...\n",
      "h2   In the news\n",
      "h2   On this day\n",
      "h2   Today's featured picture\n",
      "h2   Other areas of Wikipedia\n",
      "h2   Wikipedia's sister projects\n",
      "h2   Wikipedia languages\n"
     ]
    },
    {
     "data": {
      "text/html": [
       "<div>\n",
       "<style scoped>\n",
       "    .dataframe tbody tr th:only-of-type {\n",
       "        vertical-align: middle;\n",
       "    }\n",
       "\n",
       "    .dataframe tbody tr th {\n",
       "        vertical-align: top;\n",
       "    }\n",
       "\n",
       "    .dataframe thead th {\n",
       "        text-align: right;\n",
       "    }\n",
       "</style>\n",
       "<table border=\"1\" class=\"dataframe\">\n",
       "  <thead>\n",
       "    <tr style=\"text-align: right;\">\n",
       "      <th></th>\n",
       "      <th>Tagname</th>\n",
       "      <th>Headine</th>\n",
       "    </tr>\n",
       "  </thead>\n",
       "  <tbody>\n",
       "    <tr>\n",
       "      <th>0</th>\n",
       "      <td>h2</td>\n",
       "      <td>Main Page</td>\n",
       "    </tr>\n",
       "    <tr>\n",
       "      <th>1</th>\n",
       "      <td>h2</td>\n",
       "      <td>Welcome to Wikipedia</td>\n",
       "    </tr>\n",
       "    <tr>\n",
       "      <th>2</th>\n",
       "      <td>h2</td>\n",
       "      <td></td>\n",
       "    </tr>\n",
       "    <tr>\n",
       "      <th>3</th>\n",
       "      <td>h2</td>\n",
       "      <td>Did you know ...</td>\n",
       "    </tr>\n",
       "    <tr>\n",
       "      <th>4</th>\n",
       "      <td>h2</td>\n",
       "      <td>In the news</td>\n",
       "    </tr>\n",
       "  </tbody>\n",
       "</table>\n",
       "</div>"
      ],
      "text/plain": [
       "  Tagname               Headine\n",
       "0      h2             Main Page\n",
       "1      h2  Welcome to Wikipedia\n",
       "2      h2                      \n",
       "3      h2      Did you know ...\n",
       "4      h2           In the news"
      ]
     },
     "execution_count": 6,
     "metadata": {},
     "output_type": "execute_result"
    }
   ],
   "source": [
    "#A python program to display all the header tags from wikipedia.org and make datframe\n",
    "import requests\n",
    "r = requests.get('https://en.wikipedia.org/wiki/Main_Page')\n",
    "import pandas as pd\n",
    "from bs4 import BeautifulSoup\n",
    "soup = BeautifulSoup(r.text, 'html.parser')\n",
    "heading_tags =[\"h1\", \"h2\", \"h3\"]\n",
    "for tags in soup.find_all(heading_tags):\n",
    "    print(tags.name + '   ' + tags.text.strip())\n",
    "    results = soup.find_all(heading_tags)\n",
    "first_result = results[0]\n",
    "first_result\n",
    "records=[]\n",
    "for result in results:\n",
    "    Tagname= tags.name\n",
    "    Headine=result.find('span').text\n",
    "    records.append((Tagname,Headine))\n",
    "    import pandas as pd\n",
    "df = pd.DataFrame(records, columns=['Tagname', 'Headine'])\n",
    "\n",
    "df.head()"
   ]
  },
  {
   "cell_type": "code",
   "execution_count": 135,
   "id": "e4fd7657",
   "metadata": {
    "scrolled": false
   },
   "outputs": [
    {
     "data": {
      "text/html": [
       "<div>\n",
       "<style scoped>\n",
       "    .dataframe tbody tr th:only-of-type {\n",
       "        vertical-align: middle;\n",
       "    }\n",
       "\n",
       "    .dataframe tbody tr th {\n",
       "        vertical-align: top;\n",
       "    }\n",
       "\n",
       "    .dataframe thead th {\n",
       "        text-align: right;\n",
       "    }\n",
       "</style>\n",
       "<table border=\"1\" class=\"dataframe\">\n",
       "  <thead>\n",
       "    <tr style=\"text-align: right;\">\n",
       "      <th></th>\n",
       "      <th>movietital</th>\n",
       "      <th>Releaseyear</th>\n",
       "      <th>rating</th>\n",
       "    </tr>\n",
       "  </thead>\n",
       "  <tbody>\n",
       "    <tr>\n",
       "      <th>0</th>\n",
       "      <td>The Godfather</td>\n",
       "      <td>1972</td>\n",
       "      <td>9.2\\n              ...</td>\n",
       "    </tr>\n",
       "    <tr>\n",
       "      <th>1</th>\n",
       "      <td>Schindler's List</td>\n",
       "      <td>1993</td>\n",
       "      <td>9\\n                ...</td>\n",
       "    </tr>\n",
       "    <tr>\n",
       "      <th>2</th>\n",
       "      <td>12 Angry Men</td>\n",
       "      <td>1957</td>\n",
       "      <td>9\\n                ...</td>\n",
       "    </tr>\n",
       "    <tr>\n",
       "      <th>3</th>\n",
       "      <td>La vita è bella</td>\n",
       "      <td>1997</td>\n",
       "      <td>8.6\\n              ...</td>\n",
       "    </tr>\n",
       "    <tr>\n",
       "      <th>4</th>\n",
       "      <td>Il buono, il brutto, il cattivo</td>\n",
       "      <td>1966</td>\n",
       "      <td>8.8\\n              ...</td>\n",
       "    </tr>\n",
       "  </tbody>\n",
       "</table>\n",
       "</div>"
      ],
      "text/plain": [
       "                        movietital Releaseyear  \\\n",
       "0                    The Godfather        1972   \n",
       "1                 Schindler's List        1993   \n",
       "2                     12 Angry Men        1957   \n",
       "3                  La vita è bella        1997   \n",
       "4  Il buono, il brutto, il cattivo        1966   \n",
       "\n",
       "                                              rating  \n",
       "0                             9.2\\n              ...  \n",
       "1                             9\\n                ...  \n",
       "2                             9\\n                ...  \n",
       "3                             8.6\\n              ...  \n",
       "4                             8.8\\n              ...  "
      ]
     },
     "execution_count": 135,
     "metadata": {},
     "output_type": "execute_result"
    }
   ],
   "source": [
    "from bs4 import BeautifulSoup\n",
    "import requests\n",
    "import pandas as pd\n",
    "# Downloading imdb top 50 movie's data\n",
    "url = 'https://www.imdb.com/list/ls055386972/?st_dt=&mode=simple&page=1&ref_=ttls_vw_smp&sort=list_order,asc'\n",
    "response = requests.get(url)\n",
    "soup = BeautifulSoup(response.text,'html.parser')\n",
    "Result = soup('div', class_=\"lister-item mode-simple\")\n",
    "first_Result = Result[0]\n",
    "first_Result\n",
    "records=[]\n",
    "for result in Result:\n",
    "    movietital=result.find('span',class_='lister-item-header').text[5:-9]\n",
    "    Releaseyear=result.find('span',class_='lister-item-year text-muted unbold').text[1:-1]\n",
    "    rating = result.find('strong').text[2:-4]\n",
    "    records.append((movietital,Releaseyear,rating))\n",
    "    import pandas as pd\n",
    "df = pd.DataFrame(records, columns=['movietital', 'Releaseyear','rating'])\n",
    "\n",
    "df.head()"
   ]
  },
  {
   "cell_type": "code",
   "execution_count": 10,
   "id": "3f3907c7",
   "metadata": {},
   "outputs": [],
   "source": []
  },
  {
   "cell_type": "code",
   "execution_count": null,
   "id": "c05a4123",
   "metadata": {},
   "outputs": [],
   "source": []
  },
  {
   "cell_type": "code",
   "execution_count": null,
   "id": "e0d3be8a",
   "metadata": {},
   "outputs": [],
   "source": []
  },
  {
   "cell_type": "code",
   "execution_count": null,
   "id": "cb613b82",
   "metadata": {},
   "outputs": [],
   "source": []
  },
  {
   "cell_type": "raw",
   "id": "32221232",
   "metadata": {},
   "source": []
  },
  {
   "cell_type": "code",
   "execution_count": null,
   "id": "885b23c0",
   "metadata": {},
   "outputs": [],
   "source": []
  },
  {
   "cell_type": "code",
   "execution_count": null,
   "id": "229cdb39",
   "metadata": {},
   "outputs": [],
   "source": []
  }
 ],
 "metadata": {
  "kernelspec": {
   "display_name": "Python 3 (ipykernel)",
   "language": "python",
   "name": "python3"
  },
  "language_info": {
   "codemirror_mode": {
    "name": "ipython",
    "version": 3
   },
   "file_extension": ".py",
   "mimetype": "text/x-python",
   "name": "python",
   "nbconvert_exporter": "python",
   "pygments_lexer": "ipython3",
   "version": "3.10.9"
  }
 },
 "nbformat": 4,
 "nbformat_minor": 5
}
