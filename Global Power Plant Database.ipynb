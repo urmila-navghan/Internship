{
 "cells": [
  {
   "cell_type": "code",
   "execution_count": 7,
   "id": "821b616e",
   "metadata": {},
   "outputs": [],
   "source": []
  },
  {
   "cell_type": "code",
   "execution_count": 16,
   "id": "24cd9fd2",
   "metadata": {},
   "outputs": [
    {
     "name": "stdout",
     "output_type": "stream",
     "text": [
      "Fuel Prediction Accuracy: 0.8351648351648352\n"
     ]
    }
   ],
   "source": [
    "import pandas as pd\n",
    "from sklearn.model_selection import train_test_split\n",
    "from sklearn.ensemble import HistGradientBoostingClassifier\n",
    "from sklearn.metrics import accuracy_score\n",
    "from sklearn.preprocessing import LabelEncoder\n",
    "from sklearn import preprocessing\n",
    "from sklearn import utils\n",
    "\n",
    "# Load the dataset\n",
    "url = \"https://raw.githubusercontent.com/wri/global-power-plant-database/master/source_databases_csv/database_IND.csv\"\n",
    "data = pd.read_csv(url)\n",
    "\n",
    "# Data preprocessing\n",
    "# Drop non-numeric columns and columns with unique identifiers\n",
    "data = data.drop(['gppd_idnr', 'name', 'owner', 'source', 'url', 'geolocation_source'], axis=1)\n",
    "\n",
    "# Encode categorical variables using label encoding\n",
    "label_encoders = {}\n",
    "for col in data.select_dtypes(include=['object']).columns:\n",
    "    le = LabelEncoder()\n",
    "    data[col] = le.fit_transform(data[col])\n",
    "    label_encoders[col] = le\n",
    "\n",
    "# Split the data into features and target\n",
    "X = data.drop(['primary_fuel'], axis=1)\n",
    "y_fuel = data['primary_fuel']\n",
    "\n",
    "\n",
    "# Split the data into training and testing sets\n",
    "X_train, X_test, y_fuel_train, y_fuel_test, y_capacity_train, y_capacity_test = train_test_split(X, y_fuel, y_capacity, test_size=0.2, random_state=42)\n",
    "\n",
    "# Build and train the model for fuel prediction using HistGradientBoostingClassifier\n",
    "fuel_model = HistGradientBoostingClassifier(random_state=42)\n",
    "fuel_model.fit(X_train, y_fuel_train)\n",
    "fuel_predictions = fuel_model.predict(X_test)\n",
    "fuel_accuracy = accuracy_score(y_fuel_test, fuel_predictions)\n",
    "\n",
    "print(\"Fuel Prediction Accuracy:\", fuel_accuracy)\n",
    "\n",
    "\n",
    "\n"
   ]
  },
  {
   "cell_type": "code",
   "execution_count": null,
   "id": "8c245210",
   "metadata": {},
   "outputs": [],
   "source": [
    "# Build and train the model for capacity prediction using HistGradientBoostingClassifier\n",
    "ccapacity_model = HistGradientBoostingClassifier(random_state=42)\n",
    "capacity_model.fit(X_train, y_capacity_transformed_train)\n",
    "capacity_predictions = capacity_model.predict(X_test)\n",
    "capacity_accuracy = accuracy_score(y_capacity_transformed_test, capacity_predictions)\n"
   ]
  }
 ],
 "metadata": {
  "kernelspec": {
   "display_name": "Python 3 (ipykernel)",
   "language": "python",
   "name": "python3"
  },
  "language_info": {
   "codemirror_mode": {
    "name": "ipython",
    "version": 3
   },
   "file_extension": ".py",
   "mimetype": "text/x-python",
   "name": "python",
   "nbconvert_exporter": "python",
   "pygments_lexer": "ipython3",
   "version": "3.10.9"
  }
 },
 "nbformat": 4,
 "nbformat_minor": 5
}
