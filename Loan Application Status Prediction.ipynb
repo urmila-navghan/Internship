{
 "cells": [
  {
   "cell_type": "code",
   "execution_count": 3,
   "id": "e747090c",
   "metadata": {},
   "outputs": [
    {
     "name": "stdout",
     "output_type": "stream",
     "text": [
      "Loan Status Prediction Accuracy: 0.8048780487804879\n"
     ]
    }
   ],
   "source": [
    "import pandas as pd\n",
    "from sklearn.model_selection import train_test_split\n",
    "from sklearn.ensemble import HistGradientBoostingClassifier\n",
    "from sklearn.metrics import accuracy_score\n",
    "from sklearn.preprocessing import LabelEncoder, OneHotEncoder\n",
    "from sklearn.compose import ColumnTransformer\n",
    "\n",
    "# Load the dataset\n",
    "url = \"https://raw.githubusercontent.com/dsrscientist/DSData/master/loan_prediction.csv\"\n",
    "data = pd.read_csv(url)\n",
    "\n",
    "# Data preprocessing\n",
    "# Drop the loan ID column as it's not needed for prediction\n",
    "data = data.drop(['Loan_ID'], axis=1)\n",
    "\n",
    "# Handle missing values\n",
    "data.fillna(method='ffill', inplace=True)  # Forward fill missing values\n",
    "\n",
    "# Encode categorical variables using label encoding and one-hot encoding\n",
    "categorical_cols = data.select_dtypes(include=['object']).columns\n",
    "label_encoders = {}\n",
    "for col in categorical_cols:\n",
    "    le = LabelEncoder()\n",
    "    data[col] = le.fit_transform(data[col])\n",
    "    label_encoders[col] = le\n",
    "\n",
    "# Split the data into features and target\n",
    "X = data.drop(['Loan_Status'], axis=1)\n",
    "y_loan_status = data['Loan_Status']\n",
    "\n",
    "# Split the data into training and testing sets\n",
    "X_train, X_test, y_train, y_test = train_test_split(X, y_loan_status, test_size=0.2, random_state=42)\n",
    "\n",
    "# Build and train the model for loan status prediction using HistGradientBoostingClassifier\n",
    "loan_status_model = HistGradientBoostingClassifier(random_state=42)\n",
    "loan_status_model.fit(X_train, y_train)\n",
    "loan_status_predictions = loan_status_model.predict(X_test)\n",
    "loan_status_accuracy = accuracy_score(y_test, loan_status_predictions)\n",
    "\n",
    "print(\"Loan Status Prediction Accuracy:\", loan_status_accuracy)\n"
   ]
  },
  {
   "cell_type": "code",
   "execution_count": null,
   "id": "7e64bb9d",
   "metadata": {},
   "outputs": [],
   "source": []
  }
 ],
 "metadata": {
  "kernelspec": {
   "display_name": "Python 3 (ipykernel)",
   "language": "python",
   "name": "python3"
  },
  "language_info": {
   "codemirror_mode": {
    "name": "ipython",
    "version": 3
   },
   "file_extension": ".py",
   "mimetype": "text/x-python",
   "name": "python",
   "nbconvert_exporter": "python",
   "pygments_lexer": "ipython3",
   "version": "3.10.9"
  }
 },
 "nbformat": 4,
 "nbformat_minor": 5
}
