{
  "cells": [
    {
      "cell_type": "code",
      "execution_count": 1,
      "metadata": {
        "trusted": true
      },
      "outputs": [
        {
          "name": "stdout",
          "output_type": "stream",
          "text": [
            "The string is not a palindrome.\n"
          ]
        }
      ],
      "source": [
        "\n",
        "\n",
        "my_str = 'alexeraLa'\n",
        "\n",
        "\n",
        "my_str = my_str.casefold()\n",
        "\n",
        "\n",
        "rev_str = reversed(my_str)\n",
        "\n",
        "\n",
        "if list(my_str) == list(rev_str):\n",
        "   print(\"The string is a palindrome.\")\n",
        "else:\n",
        "   print(\"The string is not a palindrome.\")"
      ]
    },
    {
      "cell_type": "code",
      "execution_count": null,
      "metadata": {},
      "outputs": [],
      "source": []
    }
  ],
  "metadata": {
    "kernelspec": {
      "display_name": "Python (Pyodide)",
      "language": "python",
      "name": "python"
    },
    "language_info": {
      "codemirror_mode": {
        "name": "python",
        "version": 3
      },
      "file_extension": ".py",
      "mimetype": "text/x-python",
      "name": "python",
      "nbconvert_exporter": "python",
      "pygments_lexer": "ipython3",
      "version": "3.8"
    }
  },
  "nbformat": 4,
  "nbformat_minor": 4
}
